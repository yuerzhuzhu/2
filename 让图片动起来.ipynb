{
 "cells": [
  {
   "cell_type": "code",
   "execution_count": 14,
   "id": "bc14247f",
   "metadata": {},
   "outputs": [
    {
     "name": "stdout",
     "output_type": "stream",
     "text": [
      "VideoObject(id='791732691884858-9202953143336522465', model='cogvideox', video_result=None, task_status='PROCESSING', request_id='-9202953143336522466')\n"
     ]
    }
   ],
   "source": [
    "from zhipuai import ZhipuAI\n",
    "client = ZhipuAI(api_key=\"6e2e0c6334d619612f65d1a6d481c17a.9v4l5qzelGQZ1UoD\")\n",
    "\n",
    "response = client.videos.generations(\n",
    "    model = \"cogvideox\",\n",
    "    image_url = 'https://wx2.sinaimg.cn/mw690/506593bagy1hvo19wxkxpj20u017cjzc.jpg',\n",
    "    prompt=\"小猫跳起来\"\n",
    ")\n",
    "print(response)"
   ]
  },
  {
   "cell_type": "code",
   "execution_count": 16,
   "id": "fb40152b",
   "metadata": {},
   "outputs": [
    {
     "name": "stdout",
     "output_type": "stream",
     "text": [
      "VideoObject(id=None, model='cogvideox', video_result=[VideoResult(url='https://aigc-files.bigmodel.cn/api/cogvideo/5d561e3a-ad5f-11ef-98ac-fe65eda1aa82_0.mp4', cover_image_url='https://aigc-files.bigmodel.cn/api/cogvideo/5d561e3a-ad5f-11ef-98ac-fe65eda1aa82_cover_0.jpeg')], task_status='SUCCESS', request_id='-9202953143336522466')\n"
     ]
    }
   ],
   "source": [
    "from zhipuai import ZhipuAI\n",
    "client = ZhipuAI(api_key = \"6e2e0c6334d619612f65d1a6d481c17a.9v4l5qzelGQZ1UoD\")\n",
    "\n",
    "response = client.videos.retrieve_videos_result(\n",
    "    id = \"791732691884858-9202953143336522465\"\n",
    ")\n",
    "print(response)"
   ]
  },
  {
   "cell_type": "code",
   "execution_count": null,
   "id": "c5fc4939",
   "metadata": {},
   "outputs": [],
   "source": []
  },
  {
   "cell_type": "code",
   "execution_count": null,
   "id": "a5de0aef",
   "metadata": {},
   "outputs": [],
   "source": []
  },
  {
   "cell_type": "code",
   "execution_count": null,
   "id": "3aa18002",
   "metadata": {},
   "outputs": [],
   "source": []
  },
  {
   "cell_type": "code",
   "execution_count": null,
   "id": "af42c128",
   "metadata": {},
   "outputs": [],
   "source": []
  }
 ],
 "metadata": {
  "kernelspec": {
   "display_name": "Python 3 (ipykernel)",
   "language": "python",
   "name": "python3"
  },
  "language_info": {
   "codemirror_mode": {
    "name": "ipython",
    "version": 3
   },
   "file_extension": ".py",
   "mimetype": "text/x-python",
   "name": "python",
   "nbconvert_exporter": "python",
   "pygments_lexer": "ipython3",
   "version": "3.9.7"
  }
 },
 "nbformat": 4,
 "nbformat_minor": 5
}
