{
 "cells": [
  {
   "cell_type": "code",
   "execution_count": 2,
   "id": "bc14247f",
   "metadata": {},
   "outputs": [
    {
     "name": "stdout",
     "output_type": "stream",
     "text": [
      "Iteration 10/100, x = -0.0012606135569512844, f(x) = 8.000008583068848\n",
      "Iteration 20/100, x = -7.6284995884634554e-06, f(x) = 8.0\n",
      "Iteration 30/100, x = -7.063072615665078e-08, f(x) = 7.999999523162842\n",
      "Iteration 40/100, x = -4.678886966758e-08, f(x) = 8.0\n",
      "Iteration 50/100, x = -4.678886966758e-08, f(x) = 8.0\n",
      "Iteration 60/100, x = -4.678886966758e-08, f(x) = 8.0\n",
      "Iteration 70/100, x = -4.678886966758e-08, f(x) = 8.0\n",
      "Iteration 80/100, x = -4.678886966758e-08, f(x) = 8.0\n",
      "Iteration 90/100, x = -4.678886966758e-08, f(x) = 8.0\n",
      "Iteration 100/100, x = -4.678886966758e-08, f(x) = 8.0\n",
      "Final result: x = -4.678886966758e-08, f(x) = 8.0\n"
     ]
    }
   ],
   "source": [
    "import torch\n",
    "import torch.optim as optim\n",
    "\n",
    "# 定义一个具有两个波谷的一元函数\n",
    "def f(x):\n",
    "    return (x - 2)**2 + (x + 2)**2\n",
    "\n",
    "# 将函数转换为PyTorch张量函数\n",
    "def f_tensor(x_tensor):\n",
    "    return (x_tensor - 2)**2 + (x_tensor + 2)**2\n",
    "\n",
    "# 初始化参数\n",
    "x = torch.randn(1, requires_grad=True)  # 随机初始化x\n",
    "optimizer = optim.SGD([x], lr=0.1)  # 使用SGD优化器，学习率设置为0.1\n",
    "\n",
    "# 迭代次数\n",
    "n_iterations = 100\n",
    "\n",
    "# 梯度下降算法\n",
    "for i in range(n_iterations):\n",
    "    optimizer.zero_grad()  # 清空梯度\n",
    "    loss = f_tensor(x)  # 计算损失\n",
    "    loss.backward()  # 反向传播\n",
    "    optimizer.step()  # 更新参数\n",
    "\n",
    "    # 打印进度\n",
    "    if (i+1) % 10 == 0:\n",
    "        print(f'Iteration {i+1}/{n_iterations}, x = {x.item()}, f(x) = {loss.item()}')\n",
    "\n",
    "# 打印最终结果\n",
    "print(f'Final result: x = {x.item()}, f(x) = {f_tensor(x).item()}')"
   ]
  },
  {
   "cell_type": "code",
   "execution_count": null,
   "id": "fb40152b",
   "metadata": {},
   "outputs": [],
   "source": []
  },
  {
   "cell_type": "code",
   "execution_count": null,
   "id": "c5fc4939",
   "metadata": {},
   "outputs": [],
   "source": []
  },
  {
   "cell_type": "code",
   "execution_count": null,
   "id": "a5de0aef",
   "metadata": {},
   "outputs": [],
   "source": []
  },
  {
   "cell_type": "code",
   "execution_count": null,
   "id": "3aa18002",
   "metadata": {},
   "outputs": [],
   "source": []
  },
  {
   "cell_type": "code",
   "execution_count": null,
   "id": "af42c128",
   "metadata": {},
   "outputs": [],
   "source": []
  }
 ],
 "metadata": {
  "kernelspec": {
   "display_name": "Python 3 (ipykernel)",
   "language": "python",
   "name": "python3"
  },
  "language_info": {
   "codemirror_mode": {
    "name": "ipython",
    "version": 3
   },
   "file_extension": ".py",
   "mimetype": "text/x-python",
   "name": "python",
   "nbconvert_exporter": "python",
   "pygments_lexer": "ipython3",
   "version": "3.9.7"
  }
 },
 "nbformat": 4,
 "nbformat_minor": 5
}
