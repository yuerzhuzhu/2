{
 "cells": [
  {
   "cell_type": "code",
   "execution_count": 1,
   "id": "92e375f8-3ecd-4a9a-a773-c577e2cc5231",
   "metadata": {},
   "outputs": [],
   "source": [
    "import torch "
   ]
  },
  {
   "cell_type": "code",
   "execution_count": 2,
   "id": "3a9143c9-732c-47af-82e5-042a958a5c91",
   "metadata": {},
   "outputs": [],
   "source": [
    "x = torch.tensor(0.0,requires_grad=True)"
   ]
  },
  {
   "cell_type": "code",
   "execution_count": 3,
   "id": "7f06c7f5-3f01-49e0-9044-b36024d505af",
   "metadata": {},
   "outputs": [],
   "source": [
    "y = torch.tensor(1.0,requires_grad=True)"
   ]
  },
  {
   "cell_type": "code",
   "execution_count": 4,
   "id": "167ffcf2-00b2-4181-a3cc-67e10dd48ecb",
   "metadata": {},
   "outputs": [],
   "source": [
    "z = x**2+y**2"
   ]
  },
  {
   "cell_type": "code",
   "execution_count": 5,
   "id": "b9dac400-6730-46d2-a7cf-9995263cfe2d",
   "metadata": {},
   "outputs": [],
   "source": [
    "z.backward()"
   ]
  },
  {
   "cell_type": "code",
   "execution_count": 7,
   "id": "6c28b1e9-25bc-4772-a0f7-c01386f90c97",
   "metadata": {},
   "outputs": [
    {
     "data": {
      "text/plain": [
       "tensor(0.)"
      ]
     },
     "execution_count": 7,
     "metadata": {},
     "output_type": "execute_result"
    }
   ],
   "source": [
    "x.grad"
   ]
  },
  {
   "cell_type": "code",
   "execution_count": 8,
   "id": "9707d0a5-09b3-43ce-b7de-a819aad55477",
   "metadata": {},
   "outputs": [
    {
     "data": {
      "text/plain": [
       "tensor(2.)"
      ]
     },
     "execution_count": 8,
     "metadata": {},
     "output_type": "execute_result"
    }
   ],
   "source": [
    "y.grad"
   ]
  }
 ],
 "metadata": {
  "kernelspec": {
   "display_name": "Python 3 (ipykernel)",
   "language": "python",
   "name": "python3"
  },
  "language_info": {
   "codemirror_mode": {
    "name": "ipython",
    "version": 3
   },
   "file_extension": ".py",
   "mimetype": "text/x-python",
   "name": "python",
   "nbconvert_exporter": "python",
   "pygments_lexer": "ipython3",
   "version": "3.9.7"
  }
 },
 "nbformat": 4,
 "nbformat_minor": 5
}
