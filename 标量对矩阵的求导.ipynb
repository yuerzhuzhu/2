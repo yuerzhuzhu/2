{
 "cells": [
  {
   "cell_type": "code",
   "execution_count": 7,
   "id": "fbfeefe6-e975-4c80-9179-b16c746d2fd7",
   "metadata": {},
   "outputs": [
    {
     "ename": "AttributeError",
     "evalue": "'builtin_function_or_method' object has no attribute 'Xb'",
     "output_type": "error",
     "traceback": [
      "\u001b[1;31m---------------------------------------------------------------------------\u001b[0m",
      "\u001b[1;31mAttributeError\u001b[0m                            Traceback (most recent call last)",
      "\u001b[1;32m~\\AppData\\Local\\Temp/ipykernel_13136/22537264.py\u001b[0m in \u001b[0;36m<module>\u001b[1;34m\u001b[0m\n\u001b[0;32m      9\u001b[0m \u001b[1;33m\u001b[0m\u001b[0m\n\u001b[0;32m     10\u001b[0m \u001b[1;31m# 步骤3: 定义函数f\u001b[0m\u001b[1;33m\u001b[0m\u001b[1;33m\u001b[0m\u001b[0m\n\u001b[1;32m---> 11\u001b[1;33m \u001b[0mf\u001b[0m \u001b[1;33m=\u001b[0m \u001b[0ma\u001b[0m\u001b[1;33m.\u001b[0m\u001b[0mT\u001b[0m\u001b[1;33m.\u001b[0m\u001b[0mexp\u001b[0m\u001b[1;33m.\u001b[0m\u001b[0mXb\u001b[0m\u001b[1;33m\u001b[0m\u001b[1;33m\u001b[0m\u001b[0m\n\u001b[0m\u001b[0;32m     12\u001b[0m \u001b[1;33m\u001b[0m\u001b[0m\n\u001b[0;32m     13\u001b[0m \u001b[1;31m# 步骤4: 计算梯度\u001b[0m\u001b[1;33m\u001b[0m\u001b[1;33m\u001b[0m\u001b[0m\n",
      "\u001b[1;31mAttributeError\u001b[0m: 'builtin_function_or_method' object has no attribute 'Xb'"
     ]
    }
   ],
   "source": [
    "import torch\n",
    "\n",
    "# 步骤1: 定义3x3的张量X，所有元素为0\n",
    "X = torch.zeros(3, 3, requires_grad=True)\n",
    "\n",
    "# 步骤2: 定义向量a和b\n",
    "a = torch.tensor([1, 1, 1])\n",
    "b = torch.tensor([1, 1, 1])\n",
    "\n",
    "# 步骤3: 定义函数f\n",
    "f = a.T.exp.Xb\n",
    "\n",
    "# 步骤4: 计算梯度\n",
    "f.backward()\n",
    "\n",
    "# 获取梯度矩阵\n",
    "gradient_matrix = X.grad\n",
    "\n",
    "print(\"梯度矩阵：\")\n",
    "print(gradient_matrix)"
   ]
  },
  {
   "cell_type": "code",
   "execution_count": 8,
   "id": "db2138d5-ecdb-4968-a1cc-261341025467",
   "metadata": {},
   "outputs": [
    {
     "ename": "RuntimeError",
     "evalue": "expected m1 and m2 to have the same dtype, but got: __int64 != float",
     "output_type": "error",
     "traceback": [
      "\u001b[1;31m---------------------------------------------------------------------------\u001b[0m",
      "\u001b[1;31mRuntimeError\u001b[0m                              Traceback (most recent call last)",
      "\u001b[1;32m~\\AppData\\Local\\Temp/ipykernel_13136/2966180797.py\u001b[0m in \u001b[0;36m<module>\u001b[1;34m\u001b[0m\n\u001b[0;32m      9\u001b[0m \u001b[1;33m\u001b[0m\u001b[0m\n\u001b[0;32m     10\u001b[0m \u001b[1;31m# 步骤3: 定义函数f\u001b[0m\u001b[1;33m\u001b[0m\u001b[1;33m\u001b[0m\u001b[0m\n\u001b[1;32m---> 11\u001b[1;33m \u001b[0mf\u001b[0m \u001b[1;33m=\u001b[0m \u001b[0ma\u001b[0m\u001b[1;33m.\u001b[0m\u001b[0mT\u001b[0m \u001b[1;33m@\u001b[0m \u001b[0mtorch\u001b[0m\u001b[1;33m.\u001b[0m\u001b[0mexp\u001b[0m\u001b[1;33m(\u001b[0m\u001b[0mX\u001b[0m\u001b[1;33m)\u001b[0m \u001b[1;33m@\u001b[0m \u001b[0mb\u001b[0m\u001b[1;33m\u001b[0m\u001b[1;33m\u001b[0m\u001b[0m\n\u001b[0m\u001b[0;32m     12\u001b[0m \u001b[1;33m\u001b[0m\u001b[0m\n\u001b[0;32m     13\u001b[0m \u001b[1;31m# 步骤4: 计算梯度\u001b[0m\u001b[1;33m\u001b[0m\u001b[1;33m\u001b[0m\u001b[0m\n",
      "\u001b[1;31mRuntimeError\u001b[0m: expected m1 and m2 to have the same dtype, but got: __int64 != float"
     ]
    }
   ],
   "source": [
    "import torch\n",
    "\n",
    "# 步骤1: 定义3x3的张量X，所有元素为0\n",
    "X = torch.zeros(3, 3, requires_grad=True)\n",
    "\n",
    "# 步骤2: 定义向量a和b\n",
    "a = torch.tensor([1, 1, 1])\n",
    "b = torch.tensor([1, 1, 1])\n",
    "\n",
    "# 步骤3: 定义函数f\n",
    "f = a.T @ torch.exp(X) @ b\n",
    "\n",
    "# 步骤4: 计算梯度\n",
    "f.backward()\n",
    "\n",
    "# 获取梯度矩阵\n",
    "gradient_matrix = X.grad\n",
    "\n",
    "print(\"梯度矩阵：\")\n",
    "print(gradient_matrix)"
   ]
  },
  {
   "cell_type": "code",
   "execution_count": null,
   "id": "ec3f88dc-e094-449c-8c29-a9344f4dc9eb",
   "metadata": {},
   "outputs": [],
   "source": []
  }
 ],
 "metadata": {
  "kernelspec": {
   "display_name": "Python 3 (ipykernel)",
   "language": "python",
   "name": "python3"
  },
  "language_info": {
   "codemirror_mode": {
    "name": "ipython",
    "version": 3
   },
   "file_extension": ".py",
   "mimetype": "text/x-python",
   "name": "python",
   "nbconvert_exporter": "python",
   "pygments_lexer": "ipython3",
   "version": "3.9.7"
  }
 },
 "nbformat": 4,
 "nbformat_minor": 5
}
