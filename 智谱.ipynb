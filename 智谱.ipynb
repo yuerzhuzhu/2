{
 "cells": [
  {
   "cell_type": "code",
   "execution_count": 1,
   "id": "92279751-699e-4e87-9faf-6436bad20177",
   "metadata": {
    "execution": {
     "iopub.execute_input": "2024-11-27T13:23:33.094712Z",
     "iopub.status.busy": "2024-11-27T13:23:33.094392Z",
     "iopub.status.idle": "2024-11-27T13:23:33.661511Z",
     "shell.execute_reply": "2024-11-27T13:23:33.660894Z",
     "shell.execute_reply.started": "2024-11-27T13:23:33.094686Z"
    },
    "tags": []
   },
   "outputs": [
    {
     "name": "stdout",
     "output_type": "stream",
     "text": [
      "VideoObject(id='88771732092952209-9202948539130661135', model='cogvideox', video_result=None, task_status='PROCESSING', request_id='-9202948539130661136')\n"
     ]
    }
   ],
   "source": [
    "from zhipuai import ZhipuAI\n",
    "client = ZhipuAI(api_key = \"4dd4d1f0b52369010e43825c8ad72da1.BgCsqiI0hT0qvEBy\")\n",
    "\n",
    "response = client.videos.generations(\n",
    "    model = \"cogvideox\",\n",
    "    prompt = \"太阳晒屁股了，猪猪侠还在赖床\"\n",
    ")\n",
    "print(response)"
   ]
  },
  {
   "cell_type": "code",
   "execution_count": 3,
   "id": "1460766c-6884-4c63-83ce-c3e4517b0ffd",
   "metadata": {
    "execution": {
     "iopub.execute_input": "2024-11-27T13:25:09.785070Z",
     "iopub.status.busy": "2024-11-27T13:25:09.784481Z",
     "iopub.status.idle": "2024-11-27T13:25:09.922998Z",
     "shell.execute_reply": "2024-11-27T13:25:09.922002Z",
     "shell.execute_reply.started": "2024-11-27T13:25:09.785038Z"
    },
    "tags": []
   },
   "outputs": [
    {
     "name": "stdout",
     "output_type": "stream",
     "text": [
      "VideoObject(id=None, model='cogvideox', video_result=[VideoResult(url='https://aigc-files.bigmodel.cn/api/cogvideo/cd167ed8-acc2-11ef-8bda-8e43cc144737_0.mp4', cover_image_url='https://aigc-files.bigmodel.cn/api/cogvideo/cd167ed8-acc2-11ef-8bda-8e43cc144737_cover_0.jpeg')], task_status='SUCCESS', request_id='-9202948539130661136')\n"
     ]
    }
   ],
   "source": [
    "from zhipuai import ZhipuAI\n",
    "client = ZhipuAI(api_key = \"4dd4d1f0b52369010e43825c8ad72da1.BgCsqiI0hT0qvEBy\")\n",
    "\n",
    "response = client.videos.retrieve_videos_result(\n",
    "    id = \"88771732092952209-9202948539130661135\"\n",
    ")\n",
    "print(response)"
   ]
  },
  {
   "cell_type": "code",
   "execution_count": null,
   "id": "8e388ef7-0f2a-494a-82b8-63cbcfc7b4bd",
   "metadata": {},
   "outputs": [],
   "source": []
  }
 ],
 "metadata": {
  "kernelspec": {
   "display_name": "Python 3 (ipykernel)",
   "language": "python",
   "name": "python3"
  },
  "language_info": {
   "codemirror_mode": {
    "name": "ipython",
    "version": 3
   },
   "file_extension": ".py",
   "mimetype": "text/x-python",
   "name": "python",
   "nbconvert_exporter": "python",
   "pygments_lexer": "ipython3",
   "version": "3.8.18"
  }
 },
 "nbformat": 4,
 "nbformat_minor": 5
}
