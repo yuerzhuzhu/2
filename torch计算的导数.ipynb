{
 "cells": [
  {
   "cell_type": "code",
   "execution_count": 1,
   "id": "7f72deb1-2a00-499d-89a6-979134d064f3",
   "metadata": {},
   "outputs": [],
   "source": [
    "import torch"
   ]
  },
  {
   "cell_type": "code",
   "execution_count": 2,
   "id": "08f0a95b-1a7f-4993-b47b-b2664f8e8e9b",
   "metadata": {},
   "outputs": [
    {
     "name": "stdout",
     "output_type": "stream",
     "text": [
      "当 x1 = 0 和 x2 = 1 时，y = f(x1, x2) 的值为: 0.9789532423019409\n",
      "当 x1 = 0 和 x2 = 1 时，y 对 x1 的偏导数为: 0.0\n",
      "当 x1 = 0 和 x2 = 1 时，y 对 x2 的偏导数为: 0.006312709301710129\n",
      "当 x1 = 0 和 x2 = 1 时，u = x1^2 + 2x2 + 1 的值为: 3.0\n",
      "当 x1 = 0 和 x2 = 1 时，w = x1^2 + 2x2 + 2 的值为: 4.0\n",
      "当 x1 = 0 和 x2 = 1 时，v = sigmoid(u) 的值为: 0.9525741338729858\n",
      "当 x1 = 0 和 x2 = 1 时，t = sigmoid(w) 的值为: 0.9820137619972229\n",
      "当 x1 = 0 和 x2 = 1 时，u = x1^2 + 2x2 + 1 的导数为: 0.012625418603420258\n",
      "当 x1 = 0 和 x2 = 1 时，w = x1^2 + 2x2 + 2 的导数为: 0.012625418603420258\n",
      "当 x1 = 0 和 x2 = 1 时，v = sigmoid(u) 的导数为: 0.06181146204471588\n",
      "当 x1 = 0 和 x2 = 1 时，t = sigmoid(w) 的导数为: 0.02060382068157196\n"
     ]
    }
   ],
   "source": [
    "import torch\n",
    "\n",
    "# 定义 sigmoid 激活函数\n",
    "def sigmoid(x):\n",
    "    return 1 / (1 + torch.exp(-x))\n",
    "\n",
    "# 定义 x1 和 x2 为张量，并设置 requires_grad=True 以启用自动求导\n",
    "x1 = torch.tensor([0.0], requires_grad=True)\n",
    "x2 = torch.tensor([1.0], requires_grad=True)\n",
    "\n",
    "# 计算中间变量 u = x1^2 + 2x2 + 1\n",
    "u = x1**2 + 2*x2 + 1\n",
    "\n",
    "# 计算 v = sigmoid(u)\n",
    "v = sigmoid(u)\n",
    "v.retain_grad()  # 保留 v 的梯度\n",
    "\n",
    "# 计算中间变量 w = x1^2 + 2x2 + 2\n",
    "w = x1**2 + 2*x2 + 2\n",
    "\n",
    "# 计算 t = sigmoid(w)\n",
    "t = sigmoid(w)\n",
    "t.retain_grad()  # 保留 t 的梯度\n",
    "\n",
    "# 计算最终的 y = sigmoid(3v + t)\n",
    "y = sigmoid(3*v + t)\n",
    "\n",
    "# 计算 y 对 x1 和 x2 的偏导数\n",
    "y.backward()\n",
    "\n",
    "# 获取偏导数\n",
    "partial_derivative_x1 = x1.grad.item()\n",
    "partial_derivative_x2 = x2.grad.item()\n",
    "\n",
    "# 计算各节点的值\n",
    "u_value = u.item()\n",
    "w_value = w.item()\n",
    "v_value = v.item()\n",
    "t_value = t.item()\n",
    "\n",
    "# 获取中间变量的梯度\n",
    "v_grad = v.grad.item()\n",
    "t_grad = t.grad.item()\n",
    "u_grad = (2*x1 + 2*x2.grad).item()\n",
    "w_grad = (2*x1 + 2*x2.grad).item()\n",
    "\n",
    "print(f\"当 x1 = 0 和 x2 = 1 时，y = f(x1, x2) 的值为: {y.item()}\")\n",
    "print(f\"当 x1 = 0 和 x2 = 1 时，y 对 x1 的偏导数为: {partial_derivative_x1}\")\n",
    "print(f\"当 x1 = 0 和 x2 = 1 时，y 对 x2 的偏导数为: {partial_derivative_x2}\")\n",
    "print(f\"当 x1 = 0 和 x2 = 1 时，u = x1^2 + 2x2 + 1 的值为: {u_value}\")\n",
    "print(f\"当 x1 = 0 和 x2 = 1 时，w = x1^2 + 2x2 + 2 的值为: {w_value}\")\n",
    "print(f\"当 x1 = 0 和 x2 = 1 时，v = sigmoid(u) 的值为: {v_value}\")\n",
    "print(f\"当 x1 = 0 和 x2 = 1 时，t = sigmoid(w) 的值为: {t_value}\")\n",
    "print(f\"当 x1 = 0 和 x2 = 1 时，u = x1^2 + 2x2 + 1 的导数为: {u_grad}\")\n",
    "print(f\"当 x1 = 0 和 x2 = 1 时，w = x1^2 + 2x2 + 2 的导数为: {w_grad}\")\n",
    "print(f\"当 x1 = 0 和 x2 = 1 时，v = sigmoid(u) 的导数为: {v_grad}\")\n",
    "print(f\"当 x1 = 0 和 x2 = 1 时，t = sigmoid(w) 的导数为: {t_grad}\")"
   ]
  },
  {
   "cell_type": "code",
   "execution_count": null,
   "id": "6ae9c7bc-55cc-4d59-8642-82a3fece4e0f",
   "metadata": {},
   "outputs": [],
   "source": []
  }
 ],
 "metadata": {
  "kernelspec": {
   "display_name": "Python 3 (ipykernel)",
   "language": "python",
   "name": "python3"
  },
  "language_info": {
   "codemirror_mode": {
    "name": "ipython",
    "version": 3
   },
   "file_extension": ".py",
   "mimetype": "text/x-python",
   "name": "python",
   "nbconvert_exporter": "python",
   "pygments_lexer": "ipython3",
   "version": "3.9.7"
  }
 },
 "nbformat": 4,
 "nbformat_minor": 5
}
