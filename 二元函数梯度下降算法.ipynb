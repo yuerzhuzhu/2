{
 "cells": [
  {
   "cell_type": "code",
   "execution_count": 3,
   "id": "b182dc25-1c3f-4f46-b108-5922c2f0009b",
   "metadata": {},
   "outputs": [
    {
     "name": "stdout",
     "output_type": "stream",
     "text": [
      "Iteration 10/100, x = 0.8776307702064514, y = 0.45540285110473633, f(x, y) = 5.4726128578186035\n",
      "Iteration 20/100, x = 0.6893348097801208, y = 0.6439985036849976, f(x, y) = 5.334939002990723\n",
      "Iteration 30/100, x = 0.6691006422042847, y = 0.6642327308654785, f(x, y) = 5.3333516120910645\n",
      "Iteration 40/100, x = 0.6669280529022217, y = 0.6664053201675415, f(x, y) = 5.333333492279053\n",
      "Iteration 50/100, x = 0.666694700717926, y = 0.6666386127471924, f(x, y) = 5.3333330154418945\n",
      "Iteration 60/100, x = 0.6666697263717651, y = 0.666663646697998, f(x, y) = 5.3333330154418945\n",
      "Iteration 70/100, x = 0.6666669845581055, y = 0.6666663289070129, f(x, y) = 5.3333330154418945\n",
      "Iteration 80/100, x = 0.6666668057441711, y = 0.666666567325592, f(x, y) = 5.333333969116211\n",
      "Iteration 90/100, x = 0.6666668057441711, y = 0.666666567325592, f(x, y) = 5.333333969116211\n",
      "Iteration 100/100, x = 0.6666668057441711, y = 0.666666567325592, f(x, y) = 5.333333969116211\n",
      "Final result: x = 0.6666668057441711, y = 0.666666567325592, f(x, y) = 5.333333969116211\n"
     ]
    }
   ],
   "source": [
    "import torch\n",
    "import torch.optim as optim\n",
    "\n",
    "# 定义一个具有两个波谷的二元函数\n",
    "def f(x, y):\n",
    "    return (x - 2)**2 + (y - 2)**2 + (x + y)**2\n",
    "\n",
    "# 将函数转换为PyTorch张量函数\n",
    "def f_tensor(x_tensor, y_tensor):\n",
    "    return (x_tensor - 2)**2 + (y_tensor - 2)**2 + (x_tensor + y_tensor)**2\n",
    "\n",
    "# 初始化参数\n",
    "x = torch.randn(1, requires_grad=True)  # 随机初始化x\n",
    "y = torch.randn(1, requires_grad=True)  # 随机初始化y\n",
    "optimizer = optim.SGD([x, y], lr=0.1)  # 使用SGD优化器，学习率设置为0.1\n",
    "\n",
    "# 迭代次数\n",
    "n_iterations = 100\n",
    "\n",
    "# 梯度下降算法\n",
    "for i in range(n_iterations):\n",
    "    optimizer.zero_grad()  # 清空梯度\n",
    "    loss = f_tensor(x, y)  # 计算损失\n",
    "    loss.backward()  # 反向传播\n",
    "    optimizer.step()  # 更新参数\n",
    "\n",
    "    # 打印进度\n",
    "    if (i+1) % 10 == 0:\n",
    "        print(f'Iteration {i+1}/{n_iterations}, x = {x.item()}, y = {y.item()}, f(x, y) = {loss.item()}')\n",
    "\n",
    "# 打印最终结果\n",
    "print(f'Final result: x = {x.item()}, y = {y.item()}, f(x, y) = {f_tensor(x, y).item()}')"
   ]
  },
  {
   "cell_type": "code",
   "execution_count": null,
   "id": "cebbcaaf-d0d1-4eec-9e8a-57fecb7ef716",
   "metadata": {},
   "outputs": [],
   "source": []
  },
  {
   "cell_type": "code",
   "execution_count": null,
   "id": "22e3a767-aceb-40fe-b49a-e51e42054374",
   "metadata": {},
   "outputs": [],
   "source": []
  }
 ],
 "metadata": {
  "kernelspec": {
   "display_name": "Python 3 (ipykernel)",
   "language": "python",
   "name": "python3"
  },
  "language_info": {
   "codemirror_mode": {
    "name": "ipython",
    "version": 3
   },
   "file_extension": ".py",
   "mimetype": "text/x-python",
   "name": "python",
   "nbconvert_exporter": "python",
   "pygments_lexer": "ipython3",
   "version": "3.9.7"
  }
 },
 "nbformat": 4,
 "nbformat_minor": 5
}
