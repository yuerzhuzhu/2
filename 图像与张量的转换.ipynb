{
 "cells": [
  {
   "cell_type": "code",
   "execution_count": 1,
   "id": "8278428c-6af4-4afb-b66b-488e6c92962d",
   "metadata": {},
   "outputs": [],
   "source": [
    "import torch"
   ]
  },
  {
   "cell_type": "code",
   "execution_count": 16,
   "id": "cd03d7fd-f7f4-4b0d-a3eb-5866f78c323c",
   "metadata": {},
   "outputs": [
    {
     "name": "stdout",
     "output_type": "stream",
     "text": [
      "<class 'torch.Tensor'>\n"
     ]
    }
   ],
   "source": [
    "from PIL import Image\n",
    "from torchvision import transforms\n",
    "image_path = r'C:\\Users\\admin\\Pictures\\Saved Pictures\\bread.webp'\n",
    "image = Image.open(image_path)\n",
    "\n",
    "transform = transforms.ToTensor()\n",
    "tensor_image = transform(image)\n",
    "\n",
    "print(type(tensor_image))"
   ]
  },
  {
   "cell_type": "code",
   "execution_count": 18,
   "id": "22d964c9-f41b-492d-a314-631ab203a2a1",
   "metadata": {},
   "outputs": [],
   "source": [
    "import torch\n",
    "from torchvision import transforms\n",
    "\n",
    "tensor_image = torch.randn((3,224,224))\n",
    "transformed_image = transforms.ToPILImage()(tensor_image)\n",
    "\n",
    "save_path = r'C:\\Users\\admin\\Pictures\\Saved Pictures\\bread.webp'\n",
    "\n",
    "#保存图像\n",
    "transformed_image.save(save_path)"
   ]
  },
  {
   "cell_type": "code",
   "execution_count": null,
   "id": "cea25a02-2b25-49bf-8a1a-41dfcbcb7011",
   "metadata": {},
   "outputs": [],
   "source": []
  }
 ],
 "metadata": {
  "kernelspec": {
   "display_name": "Python 3 (ipykernel)",
   "language": "python",
   "name": "python3"
  },
  "language_info": {
   "codemirror_mode": {
    "name": "ipython",
    "version": 3
   },
   "file_extension": ".py",
   "mimetype": "text/x-python",
   "name": "python",
   "nbconvert_exporter": "python",
   "pygments_lexer": "ipython3",
   "version": "3.9.7"
  }
 },
 "nbformat": 4,
 "nbformat_minor": 5
}
