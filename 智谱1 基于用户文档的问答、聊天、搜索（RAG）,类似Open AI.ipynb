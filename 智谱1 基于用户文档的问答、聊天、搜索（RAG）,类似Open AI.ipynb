{
 "cells": [
  {
   "cell_type": "code",
   "execution_count": 1,
   "id": "39ec518d-50a3-4b1d-bf20-bdc10cfa4a14",
   "metadata": {},
   "outputs": [],
   "source": [
    "import os\n",
    "from zhipuai import ZhipuAI\n",
    "\n",
    "os.environ[\"ZHIPUAI_API_KEY\"] = \"6e2e0c6334d619612f65d1a6d481c17a.9v4l5qzelGQZ1UoD\"\n",
    "client = ZhipuAI()\n",
    "\n",
    "kb_id = 1748261416734965760    #设置问答基于的知识库的id，这个id是在创建知识库时生成的"
   ]
  },
  {
   "cell_type": "markdown",
   "id": "7b7d2b5e-6c08-455d-8492-23c2026c03e2",
   "metadata": {},
   "source": [
    "问答"
   ]
  },
  {
   "cell_type": "code",
   "execution_count": 3,
   "id": "460e0b09-7008-4859-830a-c7f404e560a6",
   "metadata": {},
   "outputs": [
    {
     "data": {
      "text/plain": [
       "Completion(model='glm-4', created=1732776531, choices=[CompletionChoice(index=0, finish_reason='stop', message=CompletionMessage(content='大数据专业是当前和未来一段很长时间内都极为热门的专业。由于大数据与人工智能、云计算、物联网等技术的紧密结合，该专业的学生未来的升学方向相对广泛，以下是一些可能的升学情况：\\n\\n1. **研究生深造**：\\n   - **数据科学与大数据技术**：学生可以选择在国内外的知名高校继续深造，攻读硕士或博士学位。\\n   - **人工智能**：随着大数据与人工智能的深度融合，很多学生会选择向人工智能方向发展。\\n   - **统计学与数学**：大数据分析依赖于统计学和数学知识，部分学生可能会选择这些基础学科进行深入研究。\\n\\n2. **跨专业学习**：\\n   - 有一定编程基础和数据分析能力的学生，可以选择管理信息系统、电子商务、金融工程等跨学科专业。\\n\\n3. **国际交流**：\\n   - 在全球化背景下，很多大数据专业的学生选择出国深造，尤其是在美国、英国等大数据技术较为发达的国家。\\n\\n4. **专业资格认证**：\\n   - 学生还可以选择获取一些专业资格证书，如数据分析师认证、SAS认证等，以提高就业竞争力。\\n\\n5. **行业培训**：\\n   - 除了学术深造外，不少学生还会参加由行业组织或企业提供的实训、培训项目，以更好地与行业需求对接。\\n\\n### 就业趋势：\\n- **政府及公共部门**：随着数字化政府的建设，对大数据人才的需求日益增长。\\n- **金融行业**：金融科技的发展，尤其是区块链、大数据分析在金融领域的应用，为学生提供了广阔的就业空间。\\n- **互联网企业**：互联网公司对大数据人才的需求一直很旺盛，是很多毕业生的首选。\\n- **医疗健康**：健康数据的分析处理、精准医疗等领域对大数据专业人才也有较高需求。\\n\\n总之，大数据专业的学生未来的升学和就业前景都是非常广阔的，关键在于学生要结合个人兴趣和市场需求，做好个人的学业和职业规划。', role='assistant', tool_calls=None))], request_id='202411281448395b5c99e3911e4068', id='202411281448395b5c99e3911e4068', usage=CompletionUsage(prompt_tokens=10, completion_tokens=378, total_tokens=388))"
      ]
     },
     "execution_count": 3,
     "metadata": {},
     "output_type": "execute_result"
    }
   ],
   "source": [
    "#设置提示词（模版）\n",
    "prompt_template = \"\"\"\n",
    "从文档\n",
    "{{knowledge}}\n",
    "中找问题\n",
    "{{question}}\n",
    "的答案\n",
    "找到答案就仅使用文档语句回答，找不到答案就用自身知识回答并告诉用户该信息不是来自文档。\n",
    "不要复述问题，直接开始回答。\n",
    "\"\"\"\n",
    "\n",
    "#直接调对话补全接口\n",
    "response = client.chat.completions.create(\n",
    "    model=\"glm-4\",                                            \n",
    "    messages=[\n",
    "        {\"role\":\"user\",\"content\":\"大数据专业未来的升学情况\"},\n",
    "    ],\n",
    "    tools=[\n",
    "        {\n",
    "            \"type\":\"retrieval\",\n",
    "            \"retrieval\": {\n",
    "                \"knowledge_id\": kb_id,\n",
    "                \"prompt_template\": prompt_template,\n",
    "            }\n",
    "        }\n",
    "    ],\n",
    "    stream=False,\n",
    ")\n",
    "response"
   ]
  }
 ],
 "metadata": {
  "kernelspec": {
   "display_name": "Python 3 (ipykernel)",
   "language": "python",
   "name": "python3"
  },
  "language_info": {
   "codemirror_mode": {
    "name": "ipython",
    "version": 3
   },
   "file_extension": ".py",
   "mimetype": "text/x-python",
   "name": "python",
   "nbconvert_exporter": "python",
   "pygments_lexer": "ipython3",
   "version": "3.9.7"
  }
 },
 "nbformat": 4,
 "nbformat_minor": 5
}
