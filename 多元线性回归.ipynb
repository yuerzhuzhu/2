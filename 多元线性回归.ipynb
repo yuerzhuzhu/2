{
 "cells": [
  {
   "cell_type": "code",
   "execution_count": null,
   "id": "af42c128",
   "metadata": {},
   "outputs": [
    {
     "name": "stdout",
     "output_type": "stream",
     "text": [
      "Epoch [20/200], Loss: 1.8780\n",
      "Epoch [40/200], Loss: 0.9035\n",
      "Epoch [60/200], Loss: 0.4434\n",
      "Epoch [80/200], Loss: 0.2230\n",
      "Epoch [100/200], Loss: 0.1160\n",
      "Epoch [120/200], Loss: 0.0632\n",
      "Epoch [140/200], Loss: 0.0369\n",
      "Epoch [160/200], Loss: 0.0236\n",
      "Epoch [180/200], Loss: 0.0168\n",
      "Epoch [200/200], Loss: 0.0133\n"
     ]
    }
   ],
   "source": [
    "import torch\n",
    "import torch.nn as nn\n",
    "import torch.optim as optim\n",
    "import numpy as np\n",
    "import matplotlib.pyplot as plt\n",
    "\n",
    "# 设置随机种子以确保结果可复现\n",
    "torch.manual_seed(0)\n",
    "np.random.seed(0)\n",
    "\n",
    "# 生成随机数据\n",
    "num_samples = 100\n",
    "num_features = 3\n",
    "X = torch.randn(num_samples, num_features)  # 特征矩阵\n",
    "true_weights = torch.randn(num_features, 1)  # 真实的权重\n",
    "y = X @ true_weights + torch.randn(num_samples, 1) * 0.1  # 目标值，添加一些噪声\n",
    "\n",
    "class LinearRegressionModel(nn.Module):\n",
    "    def __init__(self, num_features):\n",
    "        super(LinearRegressionModel, self).__init__()\n",
    "        self.linear = nn.Linear(num_features, 1)\n",
    "\n",
    "    def forward(self, x):\n",
    "        return self.linear(x)\n",
    "    \n",
    "model = LinearRegressionModel(num_features)\n",
    "criterion = nn.MSELoss()\n",
    "optimizer = optim.SGD(model.parameters(), lr=0.01)\n",
    "\n",
    "epochs = 200\n",
    "loss_history = []\n",
    "\n",
    "for epoch in range(epochs):\n",
    "    # 前向传播\n",
    "    outputs = model(X)\n",
    "    loss = criterion(outputs, y)\n",
    "\n",
    "    # 反向传播和优化\n",
    "    optimizer.zero_grad()\n",
    "    loss.backward()\n",
    "    optimizer.step()\n",
    "\n",
    "    # 记录损失\n",
    "    loss_history.append(loss.item())\n",
    "\n",
    "    # 打印每个epoch的损失\n",
    "    if (epoch + 1) % 20 == 0:\n",
    "        print(f'Epoch [{epoch+1}/{epochs}], Loss: {loss.item():.4f}')\n",
    "        \n",
    "plt.plot(loss_history, label='Training Loss')\n",
    "plt.title('Loss下降曲线')\n",
    "plt.xlabel('Epochs')\n",
    "plt.ylabel('Loss')\n",
    "plt.legend()\n",
    "plt.show()"
   ]
  }
 ],
 "metadata": {
  "kernelspec": {
   "display_name": "Python 3 (ipykernel)",
   "language": "python",
   "name": "python3"
  },
  "language_info": {
   "codemirror_mode": {
    "name": "ipython",
    "version": 3
   },
   "file_extension": ".py",
   "mimetype": "text/x-python",
   "name": "python",
   "nbconvert_exporter": "python",
   "pygments_lexer": "ipython3",
   "version": "3.9.7"
  }
 },
 "nbformat": 4,
 "nbformat_minor": 5
}
