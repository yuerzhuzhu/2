{
 "cells": [
  {
   "cell_type": "code",
   "execution_count": 3,
   "id": "a6a35018-b600-4ca9-b84c-c30bee1c1f1d",
   "metadata": {},
   "outputs": [],
   "source": [
    "import os \n",
    "from zhipuai import ZhipuAI\n",
    "import base64 \n",
    "\n",
    "os.environ[\"ZHIPUAI_API_KEY\"] = \"6e2e0c6334d619612f65d1a6d481c17a.9v4l5qzelGQZ1UoD\"\n",
    "\n",
    "client = ZhipuAI()"
   ]
  },
  {
   "cell_type": "code",
   "execution_count": 7,
   "id": "17f138bd-afd5-4880-b334-060a46739420",
   "metadata": {},
   "outputs": [
    {
     "name": "stdout",
     "output_type": "stream",
     "text": [
      "通常来说，视频理解的响应时间较长，需要等待数十秒......\n",
      "CompletionMessage(content='很抱歉，您提供的视频标题中提到的是一只猪，而不是一只狗。不过，我可以为您描述一下视频中那只小猪正在做什么。\\n\\n在视频中，可以看到一只可爱的小猪正躺在一张床上，它似乎正在享受一段美好的睡眠时间。小猪的嘴巴微微张开，好像在打呼噜一样。它的身体蜷缩着，看起来非常舒适和放松。\\n\\n床上的枕头和被子都是粉红色的，与小猪的颜色相得益彰。房间里的光线柔和而温暖，给人一种温馨的感觉。墙上挂着一些彩色的画作，为整个场景增添了一些趣味性。\\n\\n总的来说，这只小猪正在享受一段宁静而舒适的时光，让人看了不禁感到轻松愉悦。', role='assistant', tool_calls=None)\n"
     ]
    }
   ],
   "source": [
    "video_path = \"C:\\\\Users\\\\admin\\\\Desktop\\\\ai视频生成.mp4\"\n",
    "with open(video_path,'rb') as video_file:\n",
    "    video_base = base64.b64encode(video_file.read()).decode('utf-8')\n",
    "    \n",
    "print(\"通常来说，视频理解的响应时间较长，需要等待数十秒......\")\n",
    "\n",
    "response = client.chat.completions.create(\n",
    "    model=\"glm-4v-plus\",\n",
    "    temperature=0.0,\n",
    "    top_p=0,\n",
    "    \n",
    "    messages=[{\n",
    "        \"role\":\"user\",\n",
    "        \"content\":[{\n",
    "            \"type\":\"video_url\",\n",
    "            \"video_url\": {\"url\" : video_base}\n",
    "        },{\n",
    "          \"type\":\"text\",\n",
    "          \"text\": \"请仔细描述这个视频的环境，图中的小狗在干啥，以有趣的方式讲给我听\"\n",
    "        }]\n",
    "    }]\n",
    ")\n",
    "\n",
    "print(response.choices[0].message)"
   ]
  },
  {
   "cell_type": "code",
   "execution_count": null,
   "id": "09ba9f7d-2fe1-404c-87de-b7f61e222ff4",
   "metadata": {},
   "outputs": [],
   "source": []
  }
 ],
 "metadata": {
  "kernelspec": {
   "display_name": "Python 3 (ipykernel)",
   "language": "python",
   "name": "python3"
  },
  "language_info": {
   "codemirror_mode": {
    "name": "ipython",
    "version": 3
   },
   "file_extension": ".py",
   "mimetype": "text/x-python",
   "name": "python",
   "nbconvert_exporter": "python",
   "pygments_lexer": "ipython3",
   "version": "3.9.7"
  }
 },
 "nbformat": 4,
 "nbformat_minor": 5
}
